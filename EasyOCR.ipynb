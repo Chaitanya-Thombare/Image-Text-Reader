{
  "nbformat": 4,
  "nbformat_minor": 0,
  "metadata": {
    "colab": {
      "name": "EasyOCR.ipynb",
      "provenance": [],
      "collapsed_sections": []
    },
    "kernelspec": {
      "name": "python3",
      "display_name": "Python 3"
    },
    "language_info": {
      "name": "python"
    },
    "accelerator": "GPU"
  },
  "cells": [
    {
      "cell_type": "code",
      "metadata": {
        "id": "fpV1_xbNYY9A"
      },
      "source": [
        "!pip install easyocr\n",
        "!pip install pdf2image\n",
        "!sudo apt-get install poppler-utils\n",
        "\n",
        "from pdf2image import convert_from_path\n",
        "import numpy as np\n",
        "import easyocr, cv2\n",
        "\n",
        "!git clone https://github.com/Chaitanya-Thombare/OCR-Text_Extraction"
      ],
      "execution_count": null,
      "outputs": []
    },
    {
      "cell_type": "code",
      "metadata": {
        "id": "K00oaIjrWYMz"
      },
      "source": [
        "def process_img(raw_frame, scale):\n",
        "    #gray_frame = cv2.cvtColor(raw_frame, cv2.COLOR_BGR2GRAY)\n",
        "    scaled_gray_frame = cv2.resize(raw_frame, (raw_frame.shape[1]//scale, raw_frame.shape[0]//scale))\n",
        "    return scaled_gray_frame"
      ],
      "execution_count": 12,
      "outputs": []
    },
    {
      "cell_type": "code",
      "metadata": {
        "id": "vgxngyfoOatU"
      },
      "source": [
        "def detect_and_extract_text(blank_frame):\n",
        "    text_data = []\n",
        "    reader = easyocr.Reader(['en'])\n",
        "\n",
        "    res = reader.readtext(blank_frame)\n",
        "\n",
        "    for (bbox, text, prob) in res: \n",
        "        # unpack the bounding box\n",
        "        (tl, tr, br, bl) = bbox\n",
        "        tl = (int(tl[0]), int(tl[1]))\n",
        "        br = (int(br[0]), int(br[1]))\n",
        "\n",
        "        text_data.append([[(tl), (br)], text])\n",
        "        text_list.append((text))\n",
        "        detections_frame = cv2.rectangle(blank_frame, tl, br, (0, 255, 0), 2)\n",
        "\n",
        "    return detections_frame, text_data"
      ],
      "execution_count": 23,
      "outputs": []
    },
    {
      "cell_type": "code",
      "metadata": {
        "id": "4bMov4x6n6qf"
      },
      "source": [
        "def structure_data(text_data, width):\n",
        "    grp_1, grp_2, grp_3 = [], [], []\n",
        "\n",
        "    for box in text_data:\n",
        "        box_mid = (box[0][0][0] +  box[0][1][0])/2\n",
        "        if 0.00 * width <= box_mid < 0.33 * width:\n",
        "            grp_1.append(box)\n",
        "        elif 0.33 * width <= box_mid < 0.66 * width:\n",
        "            grp_2.append(box)\n",
        "        elif 0.66 * width <= box_mid < 1.00 * width:\n",
        "            grp_3.append(box)\n",
        "    \n",
        "    grp_1.sort(key=lambda x: x[0][0][1])\n",
        "    grp_2.sort(key=lambda x: x[0][0][1])\n",
        "    grp_3.sort(key=lambda x: x[0][0][1])\n",
        "\n",
        "    final_text = []\n",
        "    final_text.extend([box[1] for box in grp_1])\n",
        "    final_text.extend([box[1] for box in grp_2])\n",
        "    final_text.extend([box[1] for box in grp_2])\n",
        "\n",
        "    return final_text"
      ],
      "execution_count": 5,
      "outputs": []
    },
    {
      "cell_type": "code",
      "metadata": {
        "id": "ufBdzzNDooBz"
      },
      "source": [
        "def read_text(undetected_frame):\n",
        "    detections_frame, text_data = detect_and_extract_text(blank_frame=frame)\n",
        "    print(\"Texts detected\")\n",
        "    raw_text = structure_data(text_data=text_data, width=detections_frame.shape[1])\n",
        "    all_text = '//'.join(raw_text)\n",
        "\n",
        "    return raw_text, all_text, detections_frame"
      ],
      "execution_count": 14,
      "outputs": []
    },
    {
      "cell_type": "code",
      "metadata": {
        "colab": {
          "base_uri": "https://localhost:8080/",
          "height": 171
        },
        "id": "DGnZL9NiJohE",
        "outputId": "ef4b5ee3-1112-49c5-c831-7b54ba86b7e0"
      },
      "source": [
        "assert False"
      ],
      "execution_count": null,
      "outputs": [
        {
          "output_type": "error",
          "ename": "AssertionError",
          "evalue": "ignored",
          "traceback": [
            "\u001b[0;31m---------------------------------------------------------------------------\u001b[0m",
            "\u001b[0;31mAssertionError\u001b[0m                            Traceback (most recent call last)",
            "\u001b[0;32m<ipython-input-6-a871fdc9ebee>\u001b[0m in \u001b[0;36m<module>\u001b[0;34m()\u001b[0m\n\u001b[0;32m----> 1\u001b[0;31m \u001b[0;32massert\u001b[0m \u001b[0;32mFalse\u001b[0m\u001b[0;34m\u001b[0m\u001b[0;34m\u001b[0m\u001b[0m\n\u001b[0m",
            "\u001b[0;31mAssertionError\u001b[0m: "
          ]
        }
      ]
    },
    {
      "cell_type": "code",
      "metadata": {
        "id": "l8tuJQRroSEp"
      },
      "source": [
        "pdf_path = '/content/drive/MyDrive/Box/Immunity guide(1).pdf'\n",
        "#images = convert_from_path(\"OCR9.jpg\")\n",
        "%cd output\n",
        "for i in range(len(images)):\n",
        "    frame = process_img(raw_frame=np.array(images[i]), scale=2)\n",
        "    raw_text, text, marked_frame = read_text(frame)\n",
        "\n",
        "    img_name = \"PDF_image_\" + str(i) + \".jpg\"\n",
        "    cv2.imwrite(img_name, marked_frame)\n",
        "\n",
        "    file_name = \"PDF_text_\" + str(i) + \".txt\"\n",
        "    text_file = open(file_name,\"a\")\n",
        "    text_file = text_file.write(text)"
      ],
      "execution_count": null,
      "outputs": []
    }
  ]
}